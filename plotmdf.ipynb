{
 "cells": [
  {
   "cell_type": "code",
   "execution_count": 20,
   "metadata": {
    "collapsed": false
   },
   "outputs": [
    {
     "name": "stdout",
     "output_type": "stream",
     "text": [
      "ATS_4JB1-RBCD022002-2017-03-16-0xC.mf4\n"
     ]
    },
    {
     "data": {
      "text/plain": [
       "[u'Time',\n",
       " u'Longitude\\\\ETKC:1',\n",
       " u'Latitude\\\\ETKC:1',\n",
       " u'GlbDa_lTotDst\\\\ETKC:1',\n",
       " u'CEngDsT_t\\\\ETKC:1',\n",
       " u'Air_tCACDs\\\\ETKC:1',\n",
       " u'EnvP_p\\\\ETKC:1',\n",
       " u'EnvT_t\\\\ETKC:1',\n",
       " u'Tra_numGear\\\\ETKC:1',\n",
       " u'FlSys_dvolFlCons\\\\ETKC:1',\n",
       " u'BattU_u\\\\ETKC:1',\n",
       " u'Brk_st\\\\ETKC:1',\n",
       " u'Clth_st\\\\ETKC:1',\n",
       " u'AFS_dm\\\\ETKC:1',\n",
       " u'AFS_mAirPerCylFlt\\\\ETKC:1',\n",
       " u'Air_pCACDs\\\\ETKC:1',\n",
       " u'InjCrv_phiMI1Des\\\\ETKC:1',\n",
       " u'InjCrv_stInjCharActVal_[0]\\\\ETKC:1',\n",
       " u'InjUn_stStrt\\\\ETKC:1',\n",
       " u'InjVlv_tiMI1ET\\\\ETKC:1',\n",
       " u'InjVlv_tiPiI1ET\\\\ETKC:1',\n",
       " u'CoETS_stCurrLimActive\\\\ETKC:1',\n",
       " u'EngDa_tiEngOn\\\\ETKC:1',\n",
       " u'Exh_pPFltDiff\\\\ETKC:1',\n",
       " u'ASMod_dmEGFld_[0]\\\\ETKC:1',\n",
       " u'ASMod_dmNOxBasLM_mp\\\\ETKC:1',\n",
       " u'ASMod_dmNOxEG\\\\ETKC:1',\n",
       " u'Exh_rNOxNoCat2Ds\\\\ETKC:1',\n",
       " u'Exh_dmNOxNoCat2Ds\\\\ETKC:1',\n",
       " u'Exh_dmNOxNSCDs\\\\ETKC:1',\n",
       " u'MeUn_dvolSet\\\\ETKC:1',\n",
       " u'VehV_v\\\\ETKC:1',\n",
       " u'APP_rFlt\\\\ETKC:1',\n",
       " u'Epm_nEng\\\\ETKC:1',\n",
       " u'InjCtl_qSetUnBal\\\\ETKC:1',\n",
       " u'Rail_pSetPoint\\\\ETKC:1',\n",
       " u'RailP_pFlt\\\\ETKC:1',\n",
       " u'PthSet_trqInrSet\\\\ETKC:1',\n",
       " u'CoVeh_trqAcs\\\\ETKC:1',\n",
       " u'SCRT_tFld_[2]\\\\ETKC:1',\n",
       " u'SCR_tUCatUsT\\\\ETKC:1',\n",
       " u'SCRLdG_dmNH3MetAdapDes\\\\ETKC:1',\n",
       " u'DStgy_dmRdcAgDes\\\\ETKC:1',\n",
       " u'MeUn_iActFlt\\\\ETKC:1',\n",
       " u'SCRT_tFld_[0]\\\\ETKC:1',\n",
       " u'SCRT_tUCatDsT\\\\ETKC:1',\n",
       " u'SCRFFC_dmNOxUs\\\\ETKC:1',\n",
       " u'SCRMod_dmEstNOxDs\\\\ETKC:1',\n",
       " u'SCRMod_etaEst\\\\ETKC:1',\n",
       " u'UDC_dmRdcAgAct\\\\ETKC:1',\n",
       " u'UDC_mRdcAgDosQntExtdRng\\\\ETKC:1',\n",
       " u'Com_rNOxNoCat2Ds\\\\ETKC:1',\n",
       " u'Com_rNOxNoMCatDs\\\\ETKC:1',\n",
       " u'SCRChk_etaActAvrg1_mp\\\\ETKC:1',\n",
       " u'SCRChk_etaActAvrg2_mp\\\\ETKC:1',\n",
       " u'SCRChk_etaThres1_mp\\\\ETKC:1',\n",
       " u'SCRChk_etaThres2_mp\\\\ETKC:1',\n",
       " u'SCRChk_etaThresAvrg1_mp\\\\ETKC:1',\n",
       " u'SCRChk_etaThresAvrg2_mp\\\\ETKC:1',\n",
       " u'SCRChk_rNOxDsPeakAvrg_mp\\\\ETKC:1',\n",
       " u'SCRChk_rNOxDsPeakAvrgMin_mp\\\\ETKC:1',\n",
       " u'SCRChk_rNOxDsStkDelta_mp\\\\ETKC:1',\n",
       " u'SCRChk_rNOxDsStkDeltaMin_mp\\\\ETKC:1',\n",
       " u'SCRChk_stCond1_mp\\\\ETKC:1',\n",
       " u'SCRChk_stPeakEnaFld_mp\\\\ETKC:1',\n",
       " u'SCRChk_stPeakStM_mp\\\\ETKC:1',\n",
       " u'SCRDev_pUPmp\\\\ETKC:1',\n",
       " u'SCRFBC_facNOxCtl\\\\ETKC:1',\n",
       " u'UDosVlv_ddiBWOpn_mp\\\\ETKC:1',\n",
       " u'UDosVlv_rDyc\\\\ETKC:1',\n",
       " u'T15_st\\\\ETKC:1',\n",
       " u'CoSCR_stSub\\\\ETKC:1',\n",
       " u'SCRRly_flgPs\\\\ETKC:1',\n",
       " u'UPmpMot_tSMHeatrT\\\\ETKC:1',\n",
       " u'UPmpMot_tSMT\\\\ETKC:1',\n",
       " u'UrBackFlowPmp_ratPs\\\\ETKC:1',\n",
       " u'UHtrRly_stPs\\\\ETKC:1',\n",
       " u'UHtrTnk_stPs\\\\ETKC:1',\n",
       " u'UHtrBLDia_uRawDiag_MP\\\\ETKC:1',\n",
       " u'UHtrPLDia_uRawDiag_MP\\\\ETKC:1',\n",
       " u'UHtrSLDia_uRawDiag_MP\\\\ETKC:1',\n",
       " u'UHtrSMDia_uRawDiag_MP\\\\ETKC:1',\n",
       " u'Com_stSensNoCat2Ds\\\\ETKC:1',\n",
       " u'UPmpMot_cntrRstrt_MP\\\\ETKC:1',\n",
       " u'UPmpMot_ratPs\\\\ETKC:1',\n",
       " u'DStgy_stCondDos\\\\ETKC:1',\n",
       " u'DStgy_stMetStgy\\\\ETKC:1',\n",
       " u'DFES_numDFC_[0]\\\\ETKC:1',\n",
       " u'DFES_numDFC_[1]\\\\ETKC:1',\n",
       " u'DFES_numDFC_[2]\\\\ETKC:1',\n",
       " u'DFES_numDFC_[3]\\\\ETKC:1',\n",
       " u'DFES_numDFC_[4]\\\\ETKC:1',\n",
       " u'DFES_numDFC_[5]\\\\ETKC:1',\n",
       " u'DFES_numDFC_[6]\\\\ETKC:1',\n",
       " u'DFES_numDFC_[7]\\\\ETKC:1',\n",
       " u'DFES_numDFC_[8]\\\\ETKC:1',\n",
       " u'DFES_numDFC_[9]\\\\ETKC:1',\n",
       " u'ErrLmp_stMIL\\\\ETKC:1',\n",
       " u'DFES_stEntry_[0]\\\\ETKC:1',\n",
       " u'DFES_stEntry_[1]\\\\ETKC:1',\n",
       " u'DFES_stEntry_[2]\\\\ETKC:1',\n",
       " u'DFES_stEntry_[3]\\\\ETKC:1',\n",
       " u'DFES_stEntry_[4]\\\\ETKC:1']"
      ]
     },
     "execution_count": 20,
     "metadata": {},
     "output_type": "execute_result"
    }
   ],
   "source": [
    "%matplotlib inline\n",
    "import mdfreader as mdr\n",
    "import matplotlib.pyplot as plt\n",
    "mdf=mdr.mdf(\"ATS_4JB1-RBCD022002-2017-03-16-0xC.mf4\")\n",
    "#mdf.plot([\"InjCtl_qSetUnBal\\ETKC:1\"])\n",
    "mdf.masterChannelList[\"Time\"]\n"
   ]
  },
  {
   "cell_type": "code",
   "execution_count": 26,
   "metadata": {
    "collapsed": true
   },
   "outputs": [
    {
     "ename": "TypeError",
     "evalue": "unhashable type: 'list'",
     "output_type": "error",
     "traceback": [
      "\u001b[1;31m---------------------------------------------------------------------------\u001b[0m",
      "\u001b[1;31mTypeError\u001b[0m                                 Traceback (most recent call last)",
      "\u001b[1;32m<ipython-input-26-1c9e793db4c3>\u001b[0m in \u001b[0;36m<module>\u001b[1;34m()\u001b[0m\n\u001b[1;32m----> 1\u001b[1;33m \u001b[0ma\u001b[0m\u001b[1;33m=\u001b[0m\u001b[0mmdf\u001b[0m\u001b[1;33m.\u001b[0m\u001b[0mget\u001b[0m\u001b[1;33m(\u001b[0m\u001b[1;33m[\u001b[0m\u001b[1;34mu'Longitude\\\\ETKC:1'\u001b[0m\u001b[1;33m,\u001b[0m\u001b[1;34mu'Time'\u001b[0m\u001b[1;33m]\u001b[0m\u001b[1;33m)\u001b[0m\u001b[1;33m\u001b[0m\u001b[0m\n\u001b[0m",
      "\u001b[1;31mTypeError\u001b[0m: unhashable type: 'list'"
     ]
    }
   ],
   "source": [
    "a=mdf.get([u'Longitude\\\\ETKC:1',u'Time'])"
   ]
  },
  {
   "cell_type": "code",
   "execution_count": 24,
   "metadata": {},
   "outputs": [
    {
     "ename": "KeyError",
     "evalue": "'Time'",
     "output_type": "error",
     "traceback": [
      "\u001b[1;31m---------------------------------------------------------------------------\u001b[0m",
      "\u001b[1;31mKeyError\u001b[0m                                  Traceback (most recent call last)",
      "\u001b[1;32m<ipython-input-24-3fae6ea6f27f>\u001b[0m in \u001b[0;36m<module>\u001b[1;34m()\u001b[0m\n\u001b[1;32m----> 1\u001b[1;33m \u001b[0mplt\u001b[0m\u001b[1;33m.\u001b[0m\u001b[0mplot\u001b[0m\u001b[1;33m(\u001b[0m\u001b[0ma\u001b[0m\u001b[1;33m[\u001b[0m\u001b[1;34m'data'\u001b[0m\u001b[1;33m]\u001b[0m\u001b[1;33m,\u001b[0m\u001b[0ma\u001b[0m\u001b[1;33m[\u001b[0m\u001b[1;34m'Time'\u001b[0m\u001b[1;33m]\u001b[0m\u001b[1;33m)\u001b[0m\u001b[1;33m\u001b[0m\u001b[0m\n\u001b[0m",
      "\u001b[1;31mKeyError\u001b[0m: 'Time'"
     ]
    }
   ],
   "source": [
    "plt.plot(a['data'],a['Time'])"
   ]
  },
  {
   "cell_type": "code",
   "execution_count": null,
   "metadata": {},
   "outputs": [],
   "source": []
  }
 ],
 "metadata": {
  "kernelspec": {
   "display_name": "Python 2",
   "language": "python",
   "name": "python2"
  },
  "language_info": {
   "codemirror_mode": {
    "name": "ipython",
    "version": 2
   },
   "file_extension": ".py",
   "mimetype": "text/x-python",
   "name": "python",
   "nbconvert_exporter": "python",
   "pygments_lexer": "ipython2",
   "version": "2.7.13"
  }
 },
 "nbformat": 4,
 "nbformat_minor": 2
}
