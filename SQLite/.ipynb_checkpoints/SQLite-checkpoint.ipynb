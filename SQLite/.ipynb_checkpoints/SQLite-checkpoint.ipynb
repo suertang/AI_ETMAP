{
 "cells": [
  {
   "cell_type": "code",
   "execution_count": 2,
   "metadata": {},
   "outputs": [],
   "source": [
    "import sqlite3\n",
    "import json\n",
    "\n",
    "DATE_FORMAT = '%Y-%m-%d'\n",
    "class Project():\n",
    "    def __init__(self, json,week,TB_no,day):\n",
    "        self.projectname=\n",
    "        self.test_type=\n",
    "        self.BM_No=\n",
    "        self.Priority=\n",
    "        self.Tester=\n",
    "class Day():\n",
    "    def __init__(self,offset,project):\n",
    "        self.offset=offset\n",
    "        self.project=project\n",
    "class TB():\n",
    "    def __init__(self,TB_no,days)\n",
    "        self.TB_no=TB_no\n",
    "        self.days=days        \n",
    "class Week():\n",
    "    def __init__(self,weekid,tbs):\n",
    "        self.weekid=weekid\n",
    "        self.TBs=tbs"
   ]
  },
  {
   "cell_type": "code",
   "execution_count": null,
   "metadata": {},
   "outputs": [],
   "source": []
  }
 ],
 "metadata": {
  "kernelspec": {
   "display_name": "myroot",
   "language": "python",
   "name": "default"
  },
  "language_info": {
   "codemirror_mode": {
    "name": "ipython",
    "version": 3
   },
   "file_extension": ".py",
   "mimetype": "text/x-python",
   "name": "python",
   "nbconvert_exporter": "python",
   "pygments_lexer": "ipython3",
   "version": "3.6.6"
  }
 },
 "nbformat": 4,
 "nbformat_minor": 2
}
